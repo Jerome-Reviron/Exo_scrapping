{
 "cells": [
  {
   "cell_type": "code",
   "execution_count": 2,
   "metadata": {},
   "outputs": [
    {
     "name": "stdout",
     "output_type": "stream",
     "text": [
      "Pourcentage de tests réussis : 100.00%\n"
     ]
    }
   ],
   "source": [
    "import pandas as pd\n",
    "\n",
    "# Charger les résultats du test à partir du fichier Excel\n",
    "test_result = pd.read_excel('report.xlsx')\n",
    "\n",
    "# Filtrer les résultats réussis (PASSED)\n",
    "mask = test_result['result'] == 'PASSED'\n",
    "\n",
    "# Calculer le pourcentage de tests réussis\n",
    "success_percentage = (test_result[mask].shape[0] / test_result.shape[0]) * 100\n",
    "\n",
    "print(f\"Pourcentage de tests réussis : {success_percentage:.2f}%\")\n"
   ]
  },
  {
   "cell_type": "markdown",
   "metadata": {},
   "source": [
    "### Commande terminal : \n",
    "python -m pytest test_scrapping_fromages.py --excelreport=report.xlsx"
   ]
  }
 ],
 "metadata": {
  "kernelspec": {
   "display_name": "Python 3",
   "language": "python",
   "name": "python3"
  },
  "language_info": {
   "codemirror_mode": {
    "name": "ipython",
    "version": 3
   },
   "file_extension": ".py",
   "mimetype": "text/x-python",
   "name": "python",
   "nbconvert_exporter": "python",
   "pygments_lexer": "ipython3",
   "version": "3.11.5"
  }
 },
 "nbformat": 4,
 "nbformat_minor": 2
}
